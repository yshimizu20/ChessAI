{
 "cells": [
  {
   "cell_type": "code",
   "execution_count": 1,
   "metadata": {},
   "outputs": [],
   "source": [
    "import chess.pgn"
   ]
  },
  {
   "cell_type": "code",
   "execution_count": 2,
   "metadata": {},
   "outputs": [],
   "source": [
    "date_str = \"2015-01\""
   ]
  },
  {
   "cell_type": "code",
   "execution_count": 5,
   "metadata": {},
   "outputs": [],
   "source": [
    "with open(f\"lichess_db_standard_rated_{date_str}.pgn\", 'r') as rf:\n",
    "    with open(f\"processed/output_{date_str}.pgn\", 'w') as wf:\n",
    "        while True:\n",
    "            game = chess.pgn.read_game(rf)\n",
    "            if game is None:\n",
    "                break\n",
    "            # Calculate the average ELO of the two players\n",
    "            white_elo = int(game.headers[\"WhiteElo\"])\n",
    "            black_elo = int(game.headers[\"BlackElo\"])\n",
    "            avg_elo = (white_elo + black_elo) / 2\n",
    "\n",
    "            # Filter out games with an average ELO below 2000\n",
    "            if avg_elo < 2000:\n",
    "                continue\n",
    "\n",
    "            wf.write(str(game))"
   ]
  },
  {
   "cell_type": "code",
   "execution_count": null,
   "metadata": {},
   "outputs": [],
   "source": []
  }
 ],
 "metadata": {
  "kernelspec": {
   "display_name": "Python 3",
   "language": "python",
   "name": "python3"
  },
  "language_info": {
   "codemirror_mode": {
    "name": "ipython",
    "version": 3
   },
   "file_extension": ".py",
   "mimetype": "text/x-python",
   "name": "python",
   "nbconvert_exporter": "python",
   "pygments_lexer": "ipython3",
   "version": "3.9.6"
  },
  "orig_nbformat": 4,
  "vscode": {
   "interpreter": {
    "hash": "31f2aee4e71d21fbe5cf8b01ff0e069b9275f58929596ceb00d14d90e3e16cd6"
   }
  }
 },
 "nbformat": 4,
 "nbformat_minor": 2
}
